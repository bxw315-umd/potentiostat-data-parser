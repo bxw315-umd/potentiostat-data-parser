{
 "cells": [
  {
   "cell_type": "markdown",
   "id": "fdff0db8-e22f-49d4-bc0d-4516dbc03a1e",
   "metadata": {},
   "source": [
    "# Palmsens Data Parsing\n",
    "\n",
    "> Parses .csv files from a Palmsens potentiostat"
   ]
  },
  {
   "cell_type": "code",
   "execution_count": null,
   "id": "a20400da-ea29-42a5-9970-7017e09b2395",
   "metadata": {},
   "outputs": [],
   "source": [
    "#| default_exp palmsens"
   ]
  },
  {
   "cell_type": "code",
   "execution_count": null,
   "id": "d80b9276-a93e-4aed-b337-5cb2a20e5f26",
   "metadata": {},
   "outputs": [],
   "source": [
    "#| hide\n",
    "from nbdev.showdoc import *\n",
    "from fastcore.all import *"
   ]
  },
  {
   "cell_type": "markdown",
   "id": "f45dd486-b842-4cea-be99-a69f39152a29",
   "metadata": {},
   "source": [
    "Let's load a typical palmsens file"
   ]
  },
  {
   "cell_type": "code",
   "execution_count": null,
   "id": "f74d499d-18cc-4368-862f-4b632b6f1353",
   "metadata": {},
   "outputs": [],
   "source": [
    "import os"
   ]
  },
  {
   "cell_type": "code",
   "execution_count": null,
   "id": "56dca0a8-eae9-4959-b922-85abdbe697b0",
   "metadata": {},
   "outputs": [
    {
     "data": {
      "text/plain": [
       "['multi_column.csv', 'single_column.csv']"
      ]
     },
     "execution_count": null,
     "metadata": {},
     "output_type": "execute_result"
    }
   ],
   "source": [
    "test_dpvs_root = \"../test_files/DPVs_palmsens\"\n",
    "os.listdir(test_dpvs_root)"
   ]
  },
  {
   "cell_type": "code",
   "execution_count": null,
   "id": "f235ee10-afe5-4526-bec9-0ef5eef93155",
   "metadata": {},
   "outputs": [
    {
     "data": {
      "text/plain": [
       "['Date and time:,2025-03-29 23:18:59',\n",
       " 'Notes:',\n",
       " ',,,,,,,,,,,,',\n",
       " 'Differential Pulse Voltammetry [1]: S49,,Differential Pulse Voltammetry [8]: S48,,Differential Pulse Voltammetry [15]: S47,,Differential Pulse Voltammetry [22]: S46,,Differential Pulse Voltammetry [29]: S45,,Differential Pulse Voltammetry [36]: S44,,Differential Pulse Voltammetry [43]: S43',\n",
       " 'Date and time measurement:,2025-03-29 13:32:13,Date and time measurement:,2025-03-29 14:28:03,Date and time measurement:,2025-03-29 16:28:02,Date and time measurement:,2025-03-29 17:28:20,Date and time measurement:,2025-03-29 19:41:19,Date and time measurement:,2025-03-29 20:35:10,Date and time measurement:,2025-03-29 21:22:52,',\n",
       " 'V,µA,V,µA,V,µA,V,µA,V,µA,V,µA,V,µA',\n",
       " '0,0.019751112,0,0.040179824,0,0.045964596,0,0.04073982,0,0.044447004,0,0.043287808,0,0.05077498',\n",
       " '0.01020757,0.019157514,0.01020757,0.039586228,0.01020757,0.0450126,0.01020757,0.039709428,0.01020757,0.042632616,0.01020757,0.041630216,0.01020757,0.050198176',\n",
       " '0.02041514,0.018810318,0.02041514,0.038824632,0.02041514,0.044525404,0.02041514,0.039082228,0.02041514,0.04155182,0.02041514,0.040493424,0.02041514,0.047666992',\n",
       " '0.03062271,0.01848552,0.03062271,0.038460632,0.03062271,0.044407804,0.03062271,0.038936632,0.03062271,0.04089662,0.03062271,0.039731828,0.03062271,0.045947796']"
      ]
     },
     "execution_count": null,
     "metadata": {},
     "output_type": "execute_result"
    }
   ],
   "source": [
    "with open(os.path.join(test_dpvs_root, \"multi_column.csv\"), encoding=\"utf-16\") as f: # note the utf-16 encoding\n",
    "    lines = f.read().splitlines()\n",
    "\n",
    "lines[:10]"
   ]
  },
  {
   "cell_type": "markdown",
   "id": "b9fd57e1-5e93-4bb2-a840-a943efe6b30a",
   "metadata": {},
   "source": [
    "palmsens files have a defined line by line format, so we can parse them according to line index. first is the date and time (of export?). This isn't actually useful, the useful information is when the measurements were taken, which is later"
   ]
  },
  {
   "cell_type": "markdown",
   "id": "143d6e28-ba7f-4113-b63b-105b1a41137f",
   "metadata": {},
   "source": [
    "We don't really use notes, so I'm also skipping lines 1 and 2. Next is the names line:"
   ]
  },
  {
   "cell_type": "code",
   "execution_count": null,
   "id": "56806336-6155-42ba-83de-a8586d6fb03e",
   "metadata": {},
   "outputs": [
    {
     "data": {
      "text/plain": [
       "'Differential Pulse Voltammetry [1]: S49,,Differential Pulse Voltammetry [8]: S48,,Differential Pulse Voltammetry [15]: S47,,Differential Pulse Voltammetry [22]: S46,,Differential Pulse Voltammetry [29]: S45,,Differential Pulse Voltammetry [36]: S44,,Differential Pulse Voltammetry [43]: S43'"
      ]
     },
     "execution_count": null,
     "metadata": {},
     "output_type": "execute_result"
    }
   ],
   "source": [
    "lines[3]"
   ]
  },
  {
   "cell_type": "code",
   "execution_count": null,
   "id": "8fa5c78d-e0f5-4177-b814-f1609650b744",
   "metadata": {},
   "outputs": [],
   "source": [
    "#| export\n",
    "parse_columns = lambda ps_third_line: ps_third_line.split(\",,\")"
   ]
  },
  {
   "cell_type": "markdown",
   "id": "8e56bea6-5a46-4cfd-9716-c33219accefe",
   "metadata": {},
   "source": [
    "Now we need to parse datetimes for when the DPVs were taken"
   ]
  },
  {
   "cell_type": "code",
   "execution_count": null,
   "id": "8748a5d8-ebd5-4089-8419-34e9c5b3f22f",
   "metadata": {},
   "outputs": [],
   "source": [
    "#| export\n",
    "from datetime import datetime\n",
    "\n",
    "def parse_datetime(ps_datetime: str) -> datetime:\n",
    "    return datetime.strptime(ps_datetime, \"%Y-%m-%d %H:%M:%S\")"
   ]
  },
  {
   "cell_type": "code",
   "execution_count": null,
   "id": "2dfbb49a-f3b1-4bf7-8a83-9beb6a3debac",
   "metadata": {},
   "outputs": [],
   "source": [
    "assert parse_datetime(\"2025-03-29 23:18:59\") == datetime(2025, 3, 29, 23, 18, 59)\n",
    "test_fail(lambda: parse_datetime(\"not a ps line\"), exc=ValueError)"
   ]
  },
  {
   "cell_type": "code",
   "execution_count": null,
   "id": "d8e90f90-3407-4fee-85c5-216f3ba801f2",
   "metadata": {},
   "outputs": [
    {
     "data": {
      "text/plain": [
       "['2025-03-29 13:32:13,',\n",
       " '2025-03-29 14:28:03,',\n",
       " '2025-03-29 16:28:02,',\n",
       " '2025-03-29 17:28:20,',\n",
       " '2025-03-29 19:41:19,',\n",
       " '2025-03-29 20:35:10,',\n",
       " '2025-03-29 21:22:52,']"
      ]
     },
     "execution_count": null,
     "metadata": {},
     "output_type": "execute_result"
    }
   ],
   "source": [
    "lines[4].split(\"Date and time measurement:,\")[1:]"
   ]
  },
  {
   "cell_type": "code",
   "execution_count": null,
   "id": "da761955-1bd4-46e4-a513-e591003a5d92",
   "metadata": {},
   "outputs": [],
   "source": [
    "#| export\n",
    "def parse_measurement_datetimes(ps_fourth_line: str) -> list[datetime]:\n",
    "    datetime_strings = ps_fourth_line.split(\"Date and time measurement:,\")[1:] # note that these have a comma at the end, which we have to get rid of\n",
    "    return [parse_datetime(dt_str[:-1]) for dt_str in datetime_strings]"
   ]
  },
  {
   "cell_type": "code",
   "execution_count": null,
   "id": "fb5447cb-972e-486d-8099-0144392193a9",
   "metadata": {},
   "outputs": [],
   "source": [
    "test(parse_measurement_datetimes(lines[4]), [datetime(2025, 3, 29, 13, 32, 13),\n",
    " datetime(2025, 3, 29, 14, 28, 3),\n",
    " datetime(2025, 3, 29, 16, 28, 2),\n",
    " datetime(2025, 3, 29, 17, 28, 20),\n",
    " datetime(2025, 3, 29, 19, 41, 19),\n",
    " datetime(2025, 3, 29, 20, 35, 10),\n",
    " datetime(2025, 3, 29, 21, 22, 52)], all_equal)"
   ]
  },
  {
   "cell_type": "markdown",
   "id": "f48a2f86-a96e-4da7-9187-2b69c523f29b",
   "metadata": {},
   "source": [
    "Next is the data, which is pairs of V, uA data"
   ]
  },
  {
   "cell_type": "code",
   "execution_count": null,
   "id": "0002a0a9-a875-4ecf-a14b-1f9b85908691",
   "metadata": {},
   "outputs": [
    {
     "data": {
      "text/plain": [
       "['V', 'µA', 'V', 'µA', 'V', 'µA', 'V', 'µA', 'V', 'µA', 'V', 'µA', 'V', 'µA']"
      ]
     },
     "execution_count": null,
     "metadata": {},
     "output_type": "execute_result"
    }
   ],
   "source": [
    "lines[5].split(\",\")"
   ]
  },
  {
   "cell_type": "code",
   "execution_count": null,
   "id": "5ddf729a-0bba-4d72-97c7-94e6511352ab",
   "metadata": {},
   "outputs": [],
   "source": [
    "#| export\n",
    "# make sure the file is alternating V and µA. Otherwise, the file format isn't supported\n",
    "import numpy as np\n",
    "\n",
    "def validate_cols(ps_fifth_line: str) -> bool: # True if the file has the expected columns\n",
    "    cols = np.array(ps_fifth_line.split(\",\"))\n",
    "    if not all(cols[::2] == \"V\"): # every even element should be \"V\"\n",
    "        return False\n",
    "\n",
    "    if not all(cols[1::2] == \"µA\"): # every odd element should be \"µA\"\n",
    "        return False\n",
    "\n",
    "    return True"
   ]
  },
  {
   "cell_type": "code",
   "execution_count": null,
   "id": "dfb12f59-f588-4878-97ee-1cdcedf12452",
   "metadata": {},
   "outputs": [],
   "source": [
    "assert validate_cols(lines[5])\n",
    "assert not validate_cols(\"not a valid col\")"
   ]
  },
  {
   "cell_type": "code",
   "execution_count": null,
   "id": "5315d26f-9e83-4515-a9f7-6ccc2ecce207",
   "metadata": {},
   "outputs": [
    {
     "data": {
      "text/plain": [
       "['0,0.019751112,0,0.040179824,0,0.045964596,0,0.04073982,0,0.044447004,0,0.043287808,0,0.05077498',\n",
       " '0.01020757,0.019157514,0.01020757,0.039586228,0.01020757,0.0450126,0.01020757,0.039709428,0.01020757,0.042632616,0.01020757,0.041630216,0.01020757,0.050198176',\n",
       " '0.02041514,0.018810318,0.02041514,0.038824632,0.02041514,0.044525404,0.02041514,0.039082228,0.02041514,0.04155182,0.02041514,0.040493424,0.02041514,0.047666992',\n",
       " '0.03062271,0.01848552,0.03062271,0.038460632,0.03062271,0.044407804,0.03062271,0.038936632,0.03062271,0.04089662,0.03062271,0.039731828,0.03062271,0.045947796',\n",
       " '0.04083028,0.01798712,0.04083028,0.038225432,0.04083028,0.043971008,0.04083028,0.038634232,0.04083028,0.039759828,0.04083028,0.038651032,0.04083028,0.045707']"
      ]
     },
     "execution_count": null,
     "metadata": {},
     "output_type": "execute_result"
    }
   ],
   "source": [
    "ps_data_lines = lines[6:-1] # the last line is always an end character\n",
    "ps_data_lines[:5] # cols of V1, uA1, V2, uA2, V3, uA3, ..."
   ]
  },
  {
   "cell_type": "code",
   "execution_count": null,
   "id": "b0173379-9ae8-4b4b-80ad-aa89f45bdce7",
   "metadata": {},
   "outputs": [
    {
     "data": {
      "text/plain": [
       "array([[0.        , 0.01020757, 0.02041514, 0.03062271, 0.04083028],\n",
       "       [0.01975111, 0.01915751, 0.01881032, 0.01848552, 0.01798712],\n",
       "       [0.        , 0.01020757, 0.02041514, 0.03062271, 0.04083028],\n",
       "       [0.04017982, 0.03958623, 0.03882463, 0.03846063, 0.03822543],\n",
       "       [0.        , 0.01020757, 0.02041514, 0.03062271, 0.04083028],\n",
       "       [0.0459646 , 0.0450126 , 0.0445254 , 0.0444078 , 0.04397101],\n",
       "       [0.        , 0.01020757, 0.02041514, 0.03062271, 0.04083028],\n",
       "       [0.04073982, 0.03970943, 0.03908223, 0.03893663, 0.03863423],\n",
       "       [0.        , 0.01020757, 0.02041514, 0.03062271, 0.04083028],\n",
       "       [0.044447  , 0.04263262, 0.04155182, 0.04089662, 0.03975983],\n",
       "       [0.        , 0.01020757, 0.02041514, 0.03062271, 0.04083028],\n",
       "       [0.04328781, 0.04163022, 0.04049342, 0.03973183, 0.03865103],\n",
       "       [0.        , 0.01020757, 0.02041514, 0.03062271, 0.04083028],\n",
       "       [0.05077498, 0.05019818, 0.04766699, 0.0459478 , 0.045707  ]])"
      ]
     },
     "execution_count": null,
     "metadata": {},
     "output_type": "execute_result"
    }
   ],
   "source": [
    "step1 = np.array([line.split(\",\") for line in ps_data_lines], dtype=float).T # first, lets transpose it. so now it's rows of V1, uA1, V2, uA2, V3, uA3, ...\n",
    "step1[:, :5]"
   ]
  },
  {
   "cell_type": "code",
   "execution_count": null,
   "id": "fb249d1a-f436-4000-bdf8-fe9f4734f73b",
   "metadata": {},
   "outputs": [
    {
     "data": {
      "text/plain": [
       "array([[[0.        , 0.01020757, 0.02041514, 0.03062271, 0.04083028],\n",
       "        [0.01975111, 0.01915751, 0.01881032, 0.01848552, 0.01798712]],\n",
       "\n",
       "       [[0.        , 0.01020757, 0.02041514, 0.03062271, 0.04083028],\n",
       "        [0.04017982, 0.03958623, 0.03882463, 0.03846063, 0.03822543]],\n",
       "\n",
       "       [[0.        , 0.01020757, 0.02041514, 0.03062271, 0.04083028],\n",
       "        [0.0459646 , 0.0450126 , 0.0445254 , 0.0444078 , 0.04397101]],\n",
       "\n",
       "       [[0.        , 0.01020757, 0.02041514, 0.03062271, 0.04083028],\n",
       "        [0.04073982, 0.03970943, 0.03908223, 0.03893663, 0.03863423]],\n",
       "\n",
       "       [[0.        , 0.01020757, 0.02041514, 0.03062271, 0.04083028],\n",
       "        [0.044447  , 0.04263262, 0.04155182, 0.04089662, 0.03975983]],\n",
       "\n",
       "       [[0.        , 0.01020757, 0.02041514, 0.03062271, 0.04083028],\n",
       "        [0.04328781, 0.04163022, 0.04049342, 0.03973183, 0.03865103]],\n",
       "\n",
       "       [[0.        , 0.01020757, 0.02041514, 0.03062271, 0.04083028],\n",
       "        [0.05077498, 0.05019818, 0.04766699, 0.0459478 , 0.045707  ]]])"
      ]
     },
     "execution_count": null,
     "metadata": {},
     "output_type": "execute_result"
    }
   ],
   "source": [
    "step2 = step1.reshape(step1.shape[0]//2, 2, -1)\n",
    "step2[:,:, :5]"
   ]
  },
  {
   "cell_type": "code",
   "execution_count": null,
   "id": "9dc13122-d4af-42a1-aef2-40a618a469bc",
   "metadata": {},
   "outputs": [
    {
     "data": {
      "text/plain": [
       "{'potential': array([0.        , 0.01020757, 0.02041514, 0.03062271, 0.04083028]),\n",
       " 'current': array([4.5964596e-08, 4.5012600e-08, 4.4525404e-08, 4.4407804e-08,\n",
       "        4.3971008e-08])}"
      ]
     },
     "execution_count": null,
     "metadata": {},
     "output_type": "execute_result"
    }
   ],
   "source": [
    "# and now, if i want to retrieve a specific column's data\n",
    "col_data = step2[2, :, :5]\n",
    "{\n",
    "    \"potential\": col_data[0],\n",
    "    \"current\": col_data[1]*1e-6 # to convert it from uA to A\n",
    "}"
   ]
  },
  {
   "cell_type": "code",
   "execution_count": null,
   "id": "c123bd02-e8ce-4d17-8ca1-645ccb9af20f",
   "metadata": {},
   "outputs": [],
   "source": [
    "#| export\n",
    "def organize_column_data(\n",
    "    ps_data_lines: list[str] # usually lines[6:-1] of a palmsens .csv file\n",
    ") -> np.ndarray: # numpy array with shape (N, 2, L) where N is the number of columns, the second axis is [potential, current], and L is length of measurement\n",
    "    step1 = np.array([line.split(\",\") for line in ps_data_lines], dtype=float).T # first, lets transpose it. so now it's rows of V1, uA1, V2, uA2, V3, uA3, ...\n",
    "    step2 = step1.reshape(step1.shape[0]//2, 2, -1)\n",
    "    return step2\n",
    "\n",
    "def retrieve_data(\n",
    "    col_index: int, # index of the column\n",
    "    organized_data: np.ndarray # output of `organize_column_data`\n",
    ") -> dict[str, np.ndarray]: # a dict with potential (in volts) and current (in A)\n",
    "    col_data = organized_data[col_index]\n",
    "    return {\n",
    "        \"potential\": col_data[0],\n",
    "        \"current\": col_data[1]*1e-6\n",
    "    }"
   ]
  },
  {
   "cell_type": "markdown",
   "id": "447d5455-35cf-4826-8260-87de79870653",
   "metadata": {},
   "source": [
    "Putting it all together,"
   ]
  },
  {
   "cell_type": "code",
   "execution_count": null,
   "id": "e55fb41a-5b9f-4421-8188-33e29d190d2f",
   "metadata": {},
   "outputs": [],
   "source": [
    "#| export\n",
    "\n",
    "def parse_palmsens_file(contents: str) -> list[dict[str, [any]]]:\n",
    "    \"\"\"\n",
    "    Takes the contents of a Palmsens .csv file (usually encoded in utf-16) and returns a list of measurements.\n",
    "    For instance,\n",
    "    ```python\n",
    "    [\n",
    "        {\n",
    "            'name': 'Differential Pulse Voltammetry [1]: S49',\n",
    "            'timestamp': '2025-03-29T13:32:13',\n",
    "            'potential': array([0.        , 0.01020757, 0.02041514, 0.03062271, ...]),\n",
    "            'current': array([1.97511120e-08, 1.91575140e-08, 1.88103180e-08, ...])\n",
    "        },\n",
    "        {\n",
    "            'name': 'Differential Pulse Voltammetry [8]: S48',\n",
    "            'timestamp': '2025-03-29T14:28:03',\n",
    "            'potential': array([0.        , 0.01020757, 0.02041514, ... ]),\n",
    "            'current': array([4.0179824e-08, 3.9586228e-08, 3.8824632e-08, ...])\n",
    "        }\n",
    "    ]```\n",
    "    \"\"\"\n",
    "    lines = contents.splitlines()\n",
    "\n",
    "    cols = parse_columns(lines[3])\n",
    "    timestamps = [ts.isoformat() for ts in parse_measurement_datetimes(lines[4])]\n",
    "\n",
    "    if not len(cols) == len(timestamps):\n",
    "        raise ValueError(f\"Unexpected mismatch between column count ({len(cols)}) and timestamp count ({len(timestamps)})\")\n",
    "    \n",
    "    # make sure the data is in the expected format\n",
    "    if not validate_cols(lines[5]):\n",
    "        raise ValueError(\"Expected all measurements to be DPVs or CVs, but columns have unexpected structure.\")\n",
    "\n",
    "    organized_data = organize_column_data(lines[6:-1])\n",
    "\n",
    "    if not organized_data.shape[0] == len(cols):\n",
    "        raise ValueError(f\"Unexpected mismatch between data column count ({organized_data.shape[0]}) and column count ({len(cols)})\")\n",
    "\n",
    "    data_list = []\n",
    "    for i, (col, timestamp) in enumerate(zip(cols, timestamps)):\n",
    "        data_dict = retrieve_data(i, organized_data) # dict with potentiostat and current data\n",
    "        \n",
    "        data_list.append({\n",
    "            \"name\": col,\n",
    "            \"timestamp\": timestamp,\n",
    "        } | data_dict)\n",
    "    \n",
    "    return data_list"
   ]
  },
  {
   "cell_type": "markdown",
   "id": "ae0df356-5ad3-4a04-8f7a-ab251360453d",
   "metadata": {},
   "source": [
    "Now for a few tests:"
   ]
  },
  {
   "cell_type": "code",
   "execution_count": null,
   "id": "8a75f9c5-7855-4211-9b37-dcdb7b613ae6",
   "metadata": {},
   "outputs": [],
   "source": [
    "with open(os.path.join(test_dpvs_root, \"multi_column.csv\"), encoding=\"utf-16\") as f:\n",
    "    contents = f.read()\n",
    "\n",
    "output = parse_palmsens_file(contents)\n",
    "assert output[0][\"name\"] == \"Differential Pulse Voltammetry [1]: S49\"\n",
    "assert output[0][\"timestamp\"] == \"2025-03-29T13:32:13\"\n",
    "assert len(output) == 7\n",
    "assert output[3][\"current\"][-1] == 7.4046544e-08"
   ]
  },
  {
   "cell_type": "code",
   "execution_count": null,
   "id": "1f83d38f-2b4a-4862-94e8-c5ac91d6ef68",
   "metadata": {},
   "outputs": [],
   "source": [
    "with open(os.path.join(test_dpvs_root, \"single_column.csv\"), encoding=\"utf-16\") as f:\n",
    "    contents = f.read()\n",
    "\n",
    "output = parse_palmsens_file(contents)\n",
    "assert len(output) == 1\n",
    "assert output[0][\"name\"] == \"Differential Pulse Voltammetry [1]: 31.25uM - DPV i vs E [1]\"\n",
    "assert output[0][\"timestamp\"] == \"2025-02-11T16:04:12\"\n",
    "assert output[0][\"potential\"][2] == 0.02041514\n",
    "assert output[0][\"current\"][0] == 3.4395052e-08\n",
    "assert output[0][\"current\"][-1] == 7.5359048e-08"
   ]
  },
  {
   "cell_type": "code",
   "execution_count": null,
   "id": "f035d207-af72-409d-907c-438506589733",
   "metadata": {},
   "outputs": [],
   "source": [
    "#| hide\n",
    "import nbdev; nbdev.nbdev_export()"
   ]
  }
 ],
 "metadata": {
  "kernelspec": {
   "display_name": "python3",
   "language": "python",
   "name": "python3"
  }
 },
 "nbformat": 4,
 "nbformat_minor": 5
}
