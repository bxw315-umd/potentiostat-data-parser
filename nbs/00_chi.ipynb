{
 "cells": [
  {
   "cell_type": "markdown",
   "metadata": {},
   "source": [
    "# CHI File Parsing\n",
    "\n",
    "> Parses files from a CH Instruments potentiostat"
   ]
  },
  {
   "cell_type": "code",
   "execution_count": null,
   "metadata": {},
   "outputs": [],
   "source": [
    "#| default_exp chi"
   ]
  },
  {
   "cell_type": "code",
   "execution_count": null,
   "metadata": {},
   "outputs": [],
   "source": [
    "#| hide\n",
    "from nbdev.showdoc import *\n",
    "from fastcore.all import *"
   ]
  },
  {
   "cell_type": "markdown",
   "metadata": {},
   "source": [
    "CHI text file formats have a few features we want to handle:\n",
    "1. Included sections. CHI allows the presence or absence of each of these four: memo, parameters, results, numeric data\n",
    "2. Separator: comma, tab (and also space and linefeed, although these are less common and aren't planned features)\n",
    "3. Different column formats (multichannel results in different columns, multichannel files are currently not supported)\n",
    "4. Empty time column: some files have an empty time column for some reason"
   ]
  },
  {
   "cell_type": "markdown",
   "metadata": {},
   "source": [
    "Let's look an example of a file, to get started"
   ]
  },
  {
   "cell_type": "code",
   "execution_count": null,
   "metadata": {},
   "outputs": [],
   "source": [
    "import os"
   ]
  },
  {
   "cell_type": "code",
   "execution_count": null,
   "metadata": {},
   "outputs": [
    {
     "data": {
      "text/plain": [
       "(['MPRN_comma.txt',\n",
       "  'PN_tab_time.txt',\n",
       "  'MPRN_tab.txt',\n",
       "  'ps_single.csv',\n",
       "  'MPN_tab.txt',\n",
       "  'MPRN_tab_time.txt',\n",
       "  'ps_multi.csv'],\n",
       " ['MPRN_charge.txt'])"
      ]
     },
     "execution_count": null,
     "metadata": {},
     "output_type": "execute_result"
    }
   ],
   "source": [
    "test_root = \"../test_files\"\n",
    "\n",
    "test_dpv_dir = os.path.join(test_root, \"DPVs\")\n",
    "test_cv_dir = os.path.join(test_root, \"CVs\")\n",
    "os.listdir(test_dpv_dir), os.listdir(test_cv_dir)"
   ]
  },
  {
   "cell_type": "code",
   "execution_count": null,
   "metadata": {},
   "outputs": [
    {
     "data": {
      "text/plain": [
       "['Feb. 6, 2025   17:35:06',\n",
       " 'Differential Pulse Voltammetry',\n",
       " 'File: iaa_7.8125um_mnge_gce_2_250206.bin',\n",
       " 'Data Source:  Experiment',\n",
       " 'Instrument Model:  CHI1040C',\n",
       " 'Header: ',\n",
       " 'Note: ',\n",
       " '',\n",
       " 'Init E (V) = 0.2',\n",
       " 'Final E (V) = 1',\n",
       " 'Incr E (V) = 0.002',\n",
       " 'Amplitude (V) = 0.025',\n",
       " 'Pulse Width (sec) = 0.05',\n",
       " 'Sample Width (sec) = 0.0167',\n",
       " 'Pulse Period (sec) = 0.5',\n",
       " 'Quiet Time (sec) = 2',\n",
       " 'Sensitivity (A/V) = 1e-6',\n",
       " '',\n",
       " 'Results:',\n",
       " '',\n",
       " 'Channel 1:',\n",
       " 'Ep = 0.698V',\n",
       " 'ip = -1.338e-6A',\n",
       " 'Ap = -2.077e-7VA',\n",
       " '',\n",
       " 'Potential/V, Current/A',\n",
       " '',\n",
       " '0.202, -6.596e-7',\n",
       " '0.204, -6.557e-7',\n",
       " '0.206, -6.549e-7']"
      ]
     },
     "execution_count": null,
     "metadata": {},
     "output_type": "execute_result"
    }
   ],
   "source": [
    "with open(os.path.join(test_dpv_dir, \"MPRN_comma.txt\")) as f:\n",
    "    lines = f.read().splitlines()\n",
    "\n",
    "lines[:30]"
   ]
  },
  {
   "cell_type": "markdown",
   "metadata": {},
   "source": [
    "Now we can break down the sections:"
   ]
  },
  {
   "cell_type": "code",
   "execution_count": null,
   "metadata": {},
   "outputs": [
    {
     "data": {
      "text/plain": [
       "['Feb. 6, 2025   17:35:06',\n",
       " 'Differential Pulse Voltammetry',\n",
       " 'File: iaa_7.8125um_mnge_gce_2_250206.bin',\n",
       " 'Data Source:  Experiment',\n",
       " 'Instrument Model:  CHI1040C',\n",
       " 'Header: ',\n",
       " 'Note: ']"
      ]
     },
     "execution_count": null,
     "metadata": {},
     "output_type": "execute_result"
    }
   ],
   "source": [
    "memo = lines[:7]\n",
    "memo"
   ]
  },
  {
   "cell_type": "code",
   "execution_count": null,
   "metadata": {},
   "outputs": [
    {
     "data": {
      "text/plain": [
       "['Init E (V) = 0.2',\n",
       " 'Final E (V) = 1',\n",
       " 'Incr E (V) = 0.002',\n",
       " 'Amplitude (V) = 0.025',\n",
       " 'Pulse Width (sec) = 0.05',\n",
       " 'Sample Width (sec) = 0.0167',\n",
       " 'Pulse Period (sec) = 0.5',\n",
       " 'Quiet Time (sec) = 2',\n",
       " 'Sensitivity (A/V) = 1e-6']"
      ]
     },
     "execution_count": null,
     "metadata": {},
     "output_type": "execute_result"
    }
   ],
   "source": [
    "params = lines[8:17] # parameters\n",
    "params"
   ]
  },
  {
   "cell_type": "code",
   "execution_count": null,
   "metadata": {},
   "outputs": [
    {
     "data": {
      "text/plain": [
       "['Results:',\n",
       " '',\n",
       " 'Channel 1:',\n",
       " 'Ep = 0.698V',\n",
       " 'ip = -1.338e-6A',\n",
       " 'Ap = -2.077e-7VA']"
      ]
     },
     "execution_count": null,
     "metadata": {},
     "output_type": "execute_result"
    }
   ],
   "source": [
    "results = lines[18:24] # results\n",
    "results"
   ]
  },
  {
   "cell_type": "code",
   "execution_count": null,
   "metadata": {},
   "outputs": [
    {
     "data": {
      "text/plain": [
       "['Potential/V, Current/A',\n",
       " '',\n",
       " '0.202, -6.596e-7',\n",
       " '0.204, -6.557e-7',\n",
       " '0.206, -6.549e-7']"
      ]
     },
     "execution_count": null,
     "metadata": {},
     "output_type": "execute_result"
    }
   ],
   "source": [
    "numeric_data = lines[25:]\n",
    "numeric_data[:5]"
   ]
  },
  {
   "cell_type": "markdown",
   "metadata": {},
   "source": [
    "First, let's turn the date string within a memo into a proper datetime object"
   ]
  },
  {
   "cell_type": "code",
   "execution_count": null,
   "metadata": {},
   "outputs": [],
   "source": [
    "#| export\n",
    "from datetime import datetime\n",
    "\n",
    "def parse_datetime(\n",
    "    chi_timestamp: str\n",
    ") -> datetime:\n",
    "    \"\"\"\n",
    "    Turn a CHI timestamp into a python datetime object.\n",
    "    If parsing fails, this function returns `None`.\n",
    "    \"\"\"\n",
    "    \n",
    "    # try multiple date formats, because CHI has a nonstandard way of displaying the month. It'd be better to directly obtain the exact strings for each month, but this works for now \n",
    "    date_formats = [\n",
    "        \"%B %d, %Y %H:%M:%S\",      # \"July 8, 2025 15:52:52\"\n",
    "        \"%b. %d, %Y %H:%M:%S\",     # \"Sept. 29, 2022 16:23:14\"\n",
    "        \"%b %d, %Y %H:%M:%S\",      # \"Sep 29, 2022 16:23:14\"\n",
    "    ]\n",
    "\n",
    "    timestamp = None\n",
    "    for date_format in date_formats:\n",
    "        try:\n",
    "            timestamp = datetime.strptime(chi_timestamp, date_format)\n",
    "            break\n",
    "        except ValueError:\n",
    "            continue\n",
    "\n",
    "    return timestamp"
   ]
  },
  {
   "cell_type": "code",
   "execution_count": null,
   "metadata": {},
   "outputs": [],
   "source": [
    "assert parse_datetime(\"Feb. 6, 2025   17:35:06\") == datetime(2025, 2, 6, 17, 35, 6)\n",
    "assert parse_datetime(\"invalid\") == None\n",
    "assert parse_datetime(\"Oct. 10, 2022   09:30:07\") == datetime(2022, 10, 10, 9, 30, 7)\n",
    "assert parse_datetime(\"Oct. 10, 2022   12:12:21\") == datetime(2022, 10, 10, 12, 12, 21)\n",
    "assert parse_datetime(\"July 19, 2022   10:35:26\") == datetime(2022, 7, 19, 10, 35, 26)"
   ]
  },
  {
   "cell_type": "markdown",
   "metadata": {},
   "source": [
    "Now notice that most metadata in this document is either colon separated for a string (e.g. `File: iaa_7.8125um_mnge_gce_2_250206.bin`, `Instrument Model:  CHI1040C`) or equals separated for a float (`Init E (V) = 0.2`, `Quiet Time (sec) = 2`) so let's create some parsers for those."
   ]
  },
  {
   "cell_type": "code",
   "execution_count": null,
   "metadata": {},
   "outputs": [],
   "source": [
    "#| export\n",
    "# Because colon parsing and equals parsing are very similar, let's create a generalized function\n",
    "def parse_line(line, sep):\n",
    "    # Parses a `sep` separated line into its two halves.\n",
    "    # Returns a two-element tuple where the first element is the first part, the second element the other part\n",
    "    # For instance, `Instrument Model:  CHI1040C` becomes `(\"Instrument Model\", \"CHI1040C\")`\n",
    "    # If the line doesn't have a colon, raises it raises a ValueError\n",
    "    \n",
    "    try:\n",
    "        sep_index = line.index(sep)\n",
    "    except ValueError:\n",
    "        raise ValueError(f\"Separator {sep!r} not found in line: {line!r}\")\n",
    "        \n",
    "    first_part = line[:sep_index].strip()\n",
    "    second_part = line[sep_index+1:].strip()\n",
    "\n",
    "    return first_part, second_part"
   ]
  },
  {
   "cell_type": "code",
   "execution_count": null,
   "metadata": {},
   "outputs": [],
   "source": [
    "#| export\n",
    "# now we define colon parser as a line parser with a colon separator\n",
    "parse_colon = lambda line: parse_line(line, \":\")"
   ]
  },
  {
   "cell_type": "code",
   "execution_count": null,
   "metadata": {},
   "outputs": [],
   "source": [
    "assert parse_colon(\"File: iaa_7.8125um_mnge_gce_2_250206.bin\") == (\"File\", \"iaa_7.8125um_mnge_gce_2_250206.bin\")\n",
    "assert parse_colon(\"Instrument Model:  CHI1040C\") == ('Instrument Model', 'CHI1040C')\n",
    "assert parse_colon(\"Header: \") == ('Header', '')\n",
    "assert parse_colon(\"Note: This one contains a colon: for testing\") == ('Note', 'This one contains a colon: for testing')\n",
    "test_fail(lambda: parse_colon(\"no colon in this one\"), exc=ValueError)"
   ]
  },
  {
   "cell_type": "code",
   "execution_count": null,
   "metadata": {},
   "outputs": [],
   "source": [
    "#| export\n",
    "# equals parsing additionally converts the second number to a float\n",
    "def parse_equals(\n",
    "    line,\n",
    ") -> tuple[str, str | float]:\n",
    "    \"\"\"\n",
    "    Parse an equals line, e.g. `Init E (V) = 0.5`\n",
    "    Automatically casts the value after the `\"=\"` to a float if possible.\n",
    "    \"\"\"\n",
    "    first, second = parse_line(line, \"=\")\n",
    "\n",
    "    try:\n",
    "        second = float(second)\n",
    "    except ValueError: # can't cast\n",
    "        pass\n",
    "    \n",
    "    return first, second"
   ]
  },
  {
   "cell_type": "code",
   "execution_count": null,
   "metadata": {},
   "outputs": [],
   "source": [
    "assert parse_equals(\"Init E (V) = 0.5\") == ('Init E (V)', 0.5)\n",
    "assert parse_equals(\"Final E (V) = 1\") == ('Final E (V)', 1.0)\n",
    "assert parse_equals(\"Sample Width (sec) = 0.0167\") == ('Sample Width (sec)', 0.0167)\n",
    "assert parse_equals(\"Sensitivity (A/V) = 1e-6\") == ('Sensitivity (A/V)', 1e-06)\n",
    "test_fail(lambda: parse_equals(\"no equals in this one\"), exc=ValueError)"
   ]
  },
  {
   "cell_type": "markdown",
   "metadata": {},
   "source": [
    "now we have everything we need to parse the memo"
   ]
  },
  {
   "cell_type": "code",
   "execution_count": null,
   "metadata": {},
   "outputs": [
    {
     "data": {
      "text/plain": [
       "['Feb. 6, 2025   17:35:06',\n",
       " 'Differential Pulse Voltammetry',\n",
       " 'File: iaa_7.8125um_mnge_gce_2_250206.bin',\n",
       " 'Data Source:  Experiment',\n",
       " 'Instrument Model:  CHI1040C',\n",
       " 'Header: ',\n",
       " 'Note: ']"
      ]
     },
     "execution_count": null,
     "metadata": {},
     "output_type": "execute_result"
    }
   ],
   "source": [
    "memo"
   ]
  },
  {
   "cell_type": "code",
   "execution_count": null,
   "metadata": {},
   "outputs": [],
   "source": [
    "#| export\n",
    "def parse_memo(memo_lines: list[str]) -> dict[str, str]:\n",
    "    \"\"\"\n",
    "    Parses lines containing a memo into a dictionary, e.g.\n",
    "    ```python\n",
    "    ['Feb. 6, 2025   17:35:06',\n",
    "     'Differential Pulse Voltammetry',\n",
    "     'File: iaa_7.8125um_mnge_gce_2_250206.bin',\n",
    "     'Data Source:  Experiment',\n",
    "     'Instrument Model:  CHI1040C',\n",
    "     'Header: ',\n",
    "     'Note: ']\n",
    "     ```\n",
    "\n",
    "     into\n",
    "     \n",
    "     ```python\n",
    "     {'timestamp': '2025-02-06T17:35:06',\n",
    "     'technique': 'Differential Pulse Voltammetry',\n",
    "     'file': 'iaa_7.8125um_mnge_gce_2_250206.bin',\n",
    "     'instrument_model': 'CHI1040C'}```\n",
    "    \"\"\"\n",
    "\n",
    "    # Let's do a simple format check first:\n",
    "    if len(memo_lines) != 7:\n",
    "        raise ValueError(f\"Expected the memo to be a list of seven strings. Instead received: {memo_lines!r}\")\n",
    "\n",
    "    # parse timestamp\n",
    "    timestamp = parse_datetime(memo_lines[0])\n",
    "    if timestamp == None:\n",
    "        raise ValueError(f\"Error parsing memo timestamp: {memo_lines[0]!r}\")\n",
    "    else:\n",
    "        timestamp = timestamp.isoformat()\n",
    "    \n",
    "    return {\n",
    "        \"timestamp\": timestamp,\n",
    "        \"technique\": memo_lines[1],\n",
    "        \"file\": parse_colon(memo_lines[2])[1],\n",
    "        # skip memo[3], which is data source. it should always be experiment\n",
    "        \"instrument_model\": parse_colon(memo_lines[4])[1],\n",
    "        # skip memo[4], which is header, because nobody uses it\n",
    "        # skip memo[5], which is note, because nobody uses it\n",
    "    }"
   ]
  },
  {
   "cell_type": "code",
   "execution_count": null,
   "metadata": {},
   "outputs": [],
   "source": [
    "assert parse_memo(memo) == {'timestamp': '2025-02-06T17:35:06',\n",
    " 'technique': 'Differential Pulse Voltammetry',\n",
    " 'file': 'iaa_7.8125um_mnge_gce_2_250206.bin',\n",
    " 'instrument_model': 'CHI1040C'}\n",
    "\n",
    "assert parse_memo(\"\"\"Oct. 10, 2022   12:12:21\n",
    "Differential Pulse Voltammetry\n",
    "File: pg62.5um_dapg0um_m9_gce_dpv_221010.bin\n",
    "Data Source:  Experiment\n",
    "Instrument Model:  CHI1040C\n",
    "Header: \n",
    "Note: \"\"\".splitlines()) == {'timestamp': '2022-10-10T12:12:21',\n",
    " 'technique': 'Differential Pulse Voltammetry',\n",
    " 'file': 'pg62.5um_dapg0um_m9_gce_dpv_221010.bin',\n",
    " 'instrument_model': 'CHI1040C'}\n",
    "\n",
    "test_fail(lambda: parse_memo(\"Not a memo\"), exc=ValueError)\n",
    "test_fail(lambda: parse_memo([\"Feb. 6, 2025   17:35:06\"] + [\"\"]*6))"
   ]
  },
  {
   "cell_type": "markdown",
   "metadata": {},
   "source": [
    "Parsing the results section is currently not a supported feature. Usually, this information isn't important in my analysis."
   ]
  },
  {
   "cell_type": "markdown",
   "metadata": {},
   "source": [
    "Now we can parse parameters. Each line should contain an equals sign, and we can just extract the value with parse_equals"
   ]
  },
  {
   "cell_type": "code",
   "execution_count": null,
   "metadata": {},
   "outputs": [],
   "source": [
    "#| export\n",
    "def parse_parameters(lines: list[str]) -> dict[str, str | float]:\n",
    "    parsed_lines = [parse_equals(line) for line in lines]\n",
    "    return {param:val for param, val in parsed_lines}"
   ]
  },
  {
   "cell_type": "code",
   "execution_count": null,
   "metadata": {},
   "outputs": [],
   "source": [
    "lines = \"\"\"Init E (V) = -0.9\n",
    "High E (V) = 0.9\n",
    "Low E (V) = -0.9\n",
    "Init P/N = P\n",
    "Scan Rate (V/s) = 0.025\n",
    "Segment = 8\n",
    "Sample Interval (V) = 0.001\n",
    "Quiet Time (sec) = 2\n",
    "Sensitivity (A/V) = 1e-5\"\"\".splitlines()\n",
    "\n",
    "assert parse_parameters(lines) == {'Init E (V)': -0.9,\n",
    " 'High E (V)': 0.9,\n",
    " 'Low E (V)': -0.9,\n",
    " 'Init P/N': 'P',\n",
    " 'Scan Rate (V/s)': 0.025,\n",
    " 'Segment': 8.0,\n",
    " 'Sample Interval (V)': 0.001,\n",
    " 'Quiet Time (sec)': 2.0,\n",
    " 'Sensitivity (A/V)': 1e-05}"
   ]
  },
  {
   "cell_type": "markdown",
   "metadata": {},
   "source": [
    "Now we need to extract column names from the numeric data. There's a catch here, in that the separator could be one of a few options. These are both valid:\n",
    "```python\n",
    "Potential/V\tCurrent/A\n",
    "\n",
    "0.204\t-5.151e-7\n",
    "0.208\t-5.008e-7\n",
    "0.212\t-4.915e-7\n",
    "```\n",
    "\n",
    "```python\n",
    "Potential/V, Current/A\n",
    "\n",
    "0.202, -6.596e-7\n",
    "0.204, -6.557e-7\n",
    "0.206, -6.549e-7\n",
    "```"
   ]
  },
  {
   "cell_type": "markdown",
   "metadata": {},
   "source": [
    "So let's first detect the parser for this section. The assumption is that Potential/V is always the first column. So we can just look at the next character directly afterward."
   ]
  },
  {
   "cell_type": "code",
   "execution_count": null,
   "metadata": {},
   "outputs": [],
   "source": [
    "#| export\n",
    "def detect_column_sep(\n",
    "    line: str # line containing columns\n",
    ") -> str: # seperator, usually either \", \" or \"\\t\"\n",
    "    \"\"\"\n",
    "    Detects the separator for the line containing columns within a CHI numeric data section.\n",
    "    \n",
    "    e.g. `Potential/V, Current/A` returns `\",\"`\n",
    "    \n",
    "    e.g. `Potential/V\tCurrent/A` returns `\"\\t\"`\n",
    "    \"\"\"\n",
    "    if not line.startswith(\"Potential/V\"):\n",
    "        raise ValueError(f\"Column line expected to start with 'Potential/V': {line!r}\")\n",
    "    sep = line[len(\"Potential/V\")]\n",
    "\n",
    "    if sep == \",\":\n",
    "        return \", \" # CHI's comma separated actually adds a space, too\n",
    "    \n",
    "    return sep"
   ]
  },
  {
   "cell_type": "code",
   "execution_count": null,
   "metadata": {},
   "outputs": [],
   "source": [
    "tab_sep_example = \"\"\"Potential/V\tCurrent/A\n",
    "\n",
    "0.204\t-5.151e-7\n",
    "0.208\t-5.008e-7\n",
    "0.212\t-4.915e-7\"\"\".splitlines()\n",
    "\n",
    "comma_sep_example = \"\"\"Potential/V, Current/A\n",
    "\n",
    "0.202, -6.596e-7\n",
    "0.204, -6.557e-7\n",
    "0.206, -6.549e-7\"\"\".splitlines()\n",
    "\n",
    "assert detect_column_sep(tab_sep_example[0]) == \"\\t\"\n",
    "assert detect_column_sep(comma_sep_example[0]) == \", \"\n",
    "test_fail(lambda: detect_column_sep(\"this is not a column line\"), exc=ValueError)"
   ]
  },
  {
   "cell_type": "markdown",
   "metadata": {},
   "source": [
    "Now we can parse the whole numeric data section"
   ]
  },
  {
   "cell_type": "code",
   "execution_count": null,
   "metadata": {},
   "outputs": [],
   "source": [
    "#| export\n",
    "import numpy as np\n",
    "\n",
    "def parse_numeric_data(\n",
    "    lines: list[str] # data lines, starting with the column header\n",
    ") -> dict[str, np.ndarray]: # a dictionary of column -> numpy float array\n",
    "    \"\"\"\n",
    "    Parses numerical data within a CHI data file.\n",
    "    \"\"\"\n",
    "    \n",
    "    # parse column line\n",
    "    col_line = lines[0]\n",
    "    sep = detect_column_sep(col_line)\n",
    "    cols = col_line.split(sep)\n",
    "    \n",
    "    # next line should be empty\n",
    "    if lines[1] != \"\":\n",
    "        raise ValueError(f\"Expected an empty line after the column header, but found: {lines[1]!r}\")\n",
    "    \n",
    "    # parse the data columns\n",
    "    data = np.array([line.split(sep) for line in lines[2:]], dtype=float)\n",
    "    \n",
    "    # sometimes, CHI adds a Time/s column even when there's no time data. in that case, eliminate time\n",
    "    if len(cols) == data.shape[1]+1 and \"Time/s\" in cols: # there's one more column than the data indicates and one of the columns is time\n",
    "        cols.remove(\"Time/s\")\n",
    "    \n",
    "    if len(cols) != data.shape[1]:\n",
    "        raise ValueError(f\"The number of columns does not match the data. Columns: {cols!r}; Data: {lines[2].split(sep)}\")\n",
    "    \n",
    "    return {col: data[:, i] for i, col in enumerate(cols)}"
   ]
  },
  {
   "cell_type": "code",
   "execution_count": null,
   "metadata": {},
   "outputs": [],
   "source": [
    "# tab sep example\n",
    "test(parse_numeric_data(\"\"\"Potential/V\tCurrent/A\n",
    "\n",
    "0.204\t-5.151e-7\n",
    "0.208\t-5.008e-7\n",
    "0.212\t-4.915e-7\"\"\".splitlines()), {'Potential/V': np.array([0.204, 0.208, 0.212]),\n",
    " 'Current/A': np.array([-5.151e-07, -5.008e-07, -4.915e-07])}, all_equal)\n",
    "\n",
    "# comma sep example\n",
    "test(parse_numeric_data(\"\"\"Potential/V, Current/A\n",
    "\n",
    "0.202, -6.596e-7\n",
    "0.204, -6.557e-7\n",
    "0.206, -6.549e-7\"\"\".splitlines()), {'Potential/V': np.array([0.202, 0.204, 0.206]),\n",
    " 'Current/A': np.array([-6.596e-07, -6.557e-07, -6.549e-07])}, all_equal)\n",
    "\n",
    "# tab sep with faulty time column\n",
    "test(parse_numeric_data(\"\"\"Potential/V\tCurrent/A\tTime/s\n",
    "\n",
    "0.504\t-4.187e-7\n",
    "0.508\t-3.890e-7\n",
    "0.512\t-3.711e-7\n",
    "0.516\t-3.597e-7\"\"\".splitlines()), {'Potential/V': np.array([0.504, 0.508, 0.512, 0.516]),\n",
    " 'Current/A': np.array([-4.187e-07, -3.890e-07, -3.711e-07, -3.597e-07])}, all_equal)\n",
    "\n",
    "# number of columns mismatched\n",
    "test_fail(lambda: parse_numeric_data(\"\"\"Potential/V\tCurrent/A\tImaginary/W\n",
    "\n",
    "0.504\t-4.187e-7\n",
    "0.508\t-3.890e-7\n",
    "0.512\t-3.711e-7\n",
    "0.516\t-3.597e-7\"\"\".splitlines()), exc=ValueError)"
   ]
  },
  {
   "cell_type": "markdown",
   "metadata": {},
   "source": [
    "Now that we can parse all the sections, we just need to auto-detect them within files. Sections are always in order. So we can detect if the memo is present by seeing if line 2 starts with `\"File:\"` and line three starts with `\"Data Source\":`."
   ]
  },
  {
   "cell_type": "code",
   "execution_count": null,
   "metadata": {},
   "outputs": [],
   "source": [
    "#| export\n",
    "def contains_memo(lines: list[str]):\n",
    "    file_line = lines[2].startswith(\"File:\")\n",
    "    data_source_line = lines[3].startswith(\"Data Source:\")\n",
    "    return file_line and data_source_line"
   ]
  },
  {
   "cell_type": "code",
   "execution_count": null,
   "metadata": {},
   "outputs": [],
   "source": [
    "assert contains_memo(\"\"\"Oct. 4, 2024   11:25:46\n",
    "Cyclic Voltammetry\n",
    "File: 241004_3.125um_curcumin_incitratenah2po4buffer_ph3_50um_methylv\n",
    "Data Source:  Experiment\n",
    "Instrument Model:  CHI1040C\n",
    "Header: \n",
    "Note: \"\"\".splitlines()) == True\n",
    "\n",
    "assert contains_memo(\"\"\"Init E (V) = 0.5\n",
    "Final E (V) = 1\n",
    "Incr E (V) = 0.002\n",
    "Amplitude (V) = 0.025\n",
    "Pulse Width (sec) = 0.05\n",
    "Sample Width (sec) = 0.0167\n",
    "Pulse Period (sec) = 0.5\n",
    "Quiet Time (sec) = 2\n",
    "Sensitivity (A/V) = 1e-6\"\"\".splitlines()) == False"
   ]
  },
  {
   "cell_type": "markdown",
   "metadata": {},
   "source": [
    "we can tell if the next section contains parameters by checking if it starts with `\"Init E (V) = \"`, which is the first parameter for both DPV and CV"
   ]
  },
  {
   "cell_type": "code",
   "execution_count": null,
   "metadata": {},
   "outputs": [],
   "source": [
    "#| export\n",
    "def contains_parameters(lines):\n",
    "    return lines[0].startswith(\"Init E (V) = \")"
   ]
  },
  {
   "cell_type": "code",
   "execution_count": null,
   "metadata": {},
   "outputs": [],
   "source": [
    "assert contains_parameters(\"\"\"Init E (V) = -0.9\n",
    "High E (V) = 0.9\n",
    "Low E (V) = -0.9\n",
    "Init P/N = P\"\"\".splitlines())\n",
    "\n",
    "assert not contains_parameters(\"\"\"\n",
    "Init E (V) = -0.9\n",
    "High E (V) = 0.9\n",
    "Low E (V) = -0.9\n",
    "Init P/N = P\n",
    "\"\"\".splitlines())\n",
    "\n",
    "assert not contains_parameters(\"\"\"Potential/V, Current/A, Charge/C, Time/s\n",
    "\n",
    "-0.900, 1.305e-5, 5.218e-7, 4.000e-2\n",
    "-0.899, 1.291e-5, 1.038e-6, 8.000e-2\n",
    "-0.898, 1.277e-5, 1.549e-6, 1.200e-1\"\"\".splitlines())"
   ]
  },
  {
   "cell_type": "markdown",
   "metadata": {},
   "source": [
    "and we can find the end of the parameters lines by looking for the `\"Sensitivity (A/V) = \"` line."
   ]
  },
  {
   "cell_type": "code",
   "execution_count": null,
   "metadata": {},
   "outputs": [],
   "source": [
    "#| export\n",
    "def find_parameters_end(lines: list[str]) -> int: # returns the index of line after the last parameter line\n",
    "    if not isinstance(lines, list):\n",
    "        raise TypeError(f\"Expected a list of strings, got {type(lines).__name__}\")\n",
    "    \n",
    "    if not contains_parameters(lines):\n",
    "        raise ValueError(f\"Expected lines to start with parameters, received: {lines[:5]!r}\")\n",
    "\n",
    "    for i in range(min(len(lines), 20)): # shouldn't be more than 20 lines down\n",
    "        if lines[i].startswith(\"Sensitivity (A/V) = \"):\n",
    "            return i+1\n",
    "\n",
    "    raise ValueError(f\"Never found Sensitivty (A/V) = in lines: {lines[:20]!r}\")"
   ]
  },
  {
   "cell_type": "code",
   "execution_count": null,
   "metadata": {},
   "outputs": [],
   "source": [
    "assert find_parameters_end(\"\"\"Init E (V) = -0.9\n",
    "High E (V) = 0.9\n",
    "Low E (V) = -0.9\n",
    "Init P/N = P\n",
    "Scan Rate (V/s) = 0.025\n",
    "Segment = 8\n",
    "Sample Interval (V) = 0.001\n",
    "Quiet Time (sec) = 2\n",
    "Sensitivity (A/V) = 1e-5\"\"\".splitlines()) == 9\n",
    "\n",
    "# remove sensitivity so it fails\n",
    "test_fail(lambda: find_parameters_end(\"\"\"Init E (V) = -0.9\n",
    "High E (V) = 0.9\n",
    "Low E (V) = -0.9\n",
    "Init P/N = P\n",
    "Scan Rate (V/s) = 0.025\n",
    "Segment = 8\n",
    "Sample Interval (V) = 0.001\n",
    "Quiet Time (sec) = 2\n",
    "\n",
    "Segment 1:\n",
    "\"\"\".splitlines()))"
   ]
  },
  {
   "cell_type": "code",
   "execution_count": null,
   "metadata": {},
   "outputs": [],
   "source": [
    "#| export\n",
    "def find_start_of_numeric_data(lines: list[str]) -> int:\n",
    "    \"\"\"\n",
    "    Finds the index of the columns line by looking for Potential/V.\n",
    "    \"\"\"\n",
    "\n",
    "    for i, line in enumerate(lines):\n",
    "        if line.startswith(\"Potential/V\"):\n",
    "            return i\n",
    "\n",
    "    raise ValueError(f\"No line found starting with 'Potential/V'\")"
   ]
  },
  {
   "cell_type": "code",
   "execution_count": null,
   "metadata": {},
   "outputs": [],
   "source": [
    "assert find_start_of_numeric_data(['Results:',\n",
    " '',\n",
    " 'Channel 1:',\n",
    " 'Ep = 0.698V',\n",
    " 'ip = -1.338e-6A',\n",
    " 'Ap = -2.077e-7VA',\n",
    " '',\n",
    " 'Potential/V, Current/A',\n",
    " '',\n",
    " '0.202, -6.596e-7',\n",
    " '0.204, -6.557e-7',\n",
    " '0.206, -6.549e-7',\n",
    " '0.208, -6.547e-7']) == 7\n",
    "\n",
    "test_fail(lambda: find_start_of_numeric_data(['Results:',\n",
    " '',\n",
    " 'Channel 1:',\n",
    " 'Ep = 0.698V',\n",
    " 'ip = -1.338e-6A',\n",
    " 'Ap = -2.077e-7VA']), exc=ValueError)"
   ]
  },
  {
   "cell_type": "code",
   "execution_count": null,
   "metadata": {},
   "outputs": [],
   "source": [
    "#| export\n",
    "def parse_chi_file(contents: str):\n",
    "    lines = contents.splitlines()\n",
    "    \n",
    "    # extract the memo, if it's present\n",
    "    lines_left = lines\n",
    "    if contains_memo(lines):\n",
    "        memo = parse_memo(lines_left[:7]) # the memo is always the first 7 lines\n",
    "        lines_left = lines[8:]\n",
    "    else:\n",
    "        memo = {}\n",
    "    \n",
    "    # now extract parameters\n",
    "    if contains_parameters(lines_left):\n",
    "        end_line = find_parameters_end(lines_left)\n",
    "        parameters = parse_parameters(lines_left[:end_line]) \n",
    "        lines_left = lines_left[end_line+1:]\n",
    "    else:\n",
    "        parameters = {}\n",
    "    \n",
    "    # now extract numerical data\n",
    "    try:\n",
    "        numeric_data_index = find_start_of_numeric_data(lines_left)\n",
    "        lines_left = lines_left[numeric_data_index:]\n",
    "        numeric_data = parse_numeric_data(lines_left)\n",
    "    except ValueError:\n",
    "        numeric_data = {}\n",
    "    \n",
    "    return {\n",
    "        \"memo\": memo,\n",
    "        \"parameters\": parameters,\n",
    "        \"numeric_data\": numeric_data\n",
    "    }"
   ]
  },
  {
   "cell_type": "markdown",
   "metadata": {},
   "source": [
    "Now for the DPV tests"
   ]
  },
  {
   "cell_type": "code",
   "execution_count": null,
   "metadata": {},
   "outputs": [],
   "source": [
    "# MPN_tab test\n",
    "with open(os.path.join(test_dpv_dir, \"MPN_tab.txt\")) as f:\n",
    "    lines = f.read()\n",
    "\n",
    "parsed_data = parse_chi_file(lines)\n",
    "assert parsed_data[\"memo\"][\"timestamp\"] == \"2022-10-10T09:30:07\"\n",
    "assert parsed_data[\"parameters\"][\"Init E (V)\"] == 0.2\n",
    "assert parsed_data[\"parameters\"][\"Final E (V)\"] == 0.9\n",
    "assert parsed_data[\"numeric_data\"][\"Current/A\"][0] == -2.681e-7"
   ]
  },
  {
   "cell_type": "code",
   "execution_count": null,
   "metadata": {},
   "outputs": [],
   "source": [
    "# MPRN_comma test\n",
    "with open(os.path.join(test_dpv_dir, \"MPRN_comma.txt\")) as f:\n",
    "    lines = f.read()\n",
    "\n",
    "parsed_data = parse_chi_file(lines)\n",
    "assert parsed_data[\"memo\"][\"timestamp\"] == \"2025-02-06T17:35:06\"\n",
    "assert parsed_data[\"parameters\"][\"Init E (V)\"] == 0.2\n",
    "assert parsed_data[\"parameters\"][\"Final E (V)\"] == 1\n",
    "assert parsed_data[\"numeric_data\"][\"Current/A\"][0] == -6.596e-07"
   ]
  },
  {
   "cell_type": "code",
   "execution_count": null,
   "metadata": {},
   "outputs": [],
   "source": [
    "# MPRN_tab test\n",
    "with open(os.path.join(test_dpv_dir, \"MPRN_tab.txt\")) as f:\n",
    "    lines = f.read()\n",
    "\n",
    "parsed_data = parse_chi_file(lines)\n",
    "assert parsed_data[\"memo\"][\"timestamp\"] == \"2022-10-10T12:12:21\"\n",
    "assert parsed_data[\"parameters\"][\"Init E (V)\"] == 0.2\n",
    "assert parsed_data[\"parameters\"][\"Final E (V)\"] == 0.9\n",
    "assert parsed_data[\"numeric_data\"][\"Current/A\"][0] == -5.151e-7"
   ]
  },
  {
   "cell_type": "code",
   "execution_count": null,
   "metadata": {},
   "outputs": [],
   "source": [
    "# MPRN_tab_time test\n",
    "with open(os.path.join(test_dpv_dir, \"MPRN_tab_time.txt\")) as f:\n",
    "    lines = f.read()\n",
    "\n",
    "parsed_data = parse_chi_file(lines)\n",
    "assert parsed_data[\"memo\"][\"timestamp\"] == \"2022-07-19T10:35:26\"\n",
    "assert parsed_data[\"parameters\"][\"Init E (V)\"] == 0.4\n",
    "assert parsed_data[\"parameters\"][\"Final E (V)\"] == 1.4\n",
    "assert parsed_data[\"numeric_data\"][\"Current/A\"][0] == -5.844e-7"
   ]
  },
  {
   "cell_type": "code",
   "execution_count": null,
   "metadata": {},
   "outputs": [],
   "source": [
    "# PN_tab_time test\n",
    "with open(os.path.join(test_dpv_dir, \"PN_tab_time.txt\")) as f:\n",
    "    lines = f.read()\n",
    "\n",
    "parsed_data = parse_chi_file(lines)\n",
    "assert parsed_data[\"memo\"] == {}\n",
    "assert parsed_data[\"parameters\"][\"Init E (V)\"] == 0.5\n",
    "assert parsed_data[\"parameters\"][\"Final E (V)\"] == 1\n",
    "assert parsed_data[\"numeric_data\"][\"Current/A\"][0] == -4.187e-7"
   ]
  },
  {
   "cell_type": "markdown",
   "metadata": {},
   "source": [
    "and the CV tests"
   ]
  },
  {
   "cell_type": "code",
   "execution_count": null,
   "metadata": {},
   "outputs": [],
   "source": [
    "with open(os.path.join(test_cv_dir, \"MPRN_charge.txt\")) as f:\n",
    "    lines = f.read()\n",
    "\n",
    "parsed_data = parse_chi_file(lines)\n",
    "assert parsed_data[\"memo\"][\"timestamp\"] == \"2024-10-04T11:25:46\"\n",
    "assert parsed_data[\"parameters\"][\"Init E (V)\"] == -0.9\n",
    "assert parsed_data[\"parameters\"][\"High E (V)\"] == 0.9\n",
    "assert parsed_data[\"numeric_data\"][\"Current/A\"][0] == 1.305e-5\n",
    "assert parsed_data[\"numeric_data\"][\"Charge/C\"][0] == 5.218e-7"
   ]
  },
  {
   "cell_type": "code",
   "execution_count": null,
   "metadata": {},
   "outputs": [],
   "source": [
    "#| hide\n",
    "import nbdev; nbdev.nbdev_export()"
   ]
  },
  {
   "cell_type": "code",
   "execution_count": null,
   "metadata": {},
   "outputs": [],
   "source": []
  }
 ],
 "metadata": {
  "kernelspec": {
   "display_name": "python3",
   "language": "python",
   "name": "python3"
  }
 },
 "nbformat": 4,
 "nbformat_minor": 4
}
