{
 "cells": [
  {
   "cell_type": "code",
   "execution_count": null,
   "metadata": {},
   "outputs": [],
   "source": [
    "#| hide\n",
    "from potentiostat_data_parser.chi import *\n",
    "from potentiostat_data_parser.palmsens import *"
   ]
  },
  {
   "cell_type": "markdown",
   "metadata": {},
   "source": [
    "# potentiostat-data-parser\n",
    "\n",
    "> Parse data files created by CH Instruments potentiostats and Palmsens potentiostats"
   ]
  },
  {
   "cell_type": "markdown",
   "metadata": {},
   "source": [
    "## Usage"
   ]
  },
  {
   "cell_type": "markdown",
   "metadata": {},
   "source": [
    "### Installation"
   ]
  },
  {
   "cell_type": "markdown",
   "metadata": {},
   "source": [
    "Install latest from the GitHub [repository][repo]:\n",
    "\n",
    "```sh\n",
    "$ pip install git+https://github.com/bxw315-umd/potentiostat-data-parser.git\n",
    "```\n",
    "\n",
    "or from [conda][conda]\n",
    "\n",
    "```sh\n",
    "$ conda install -c bxw315-umd potentiostat_data_parser\n",
    "```\n",
    "\n",
    "or from [pypi][pypi]\n",
    "\n",
    "\n",
    "```sh\n",
    "$ pip install potentiostat_data_parser\n",
    "```\n",
    "\n",
    "\n",
    "[repo]: https://github.com/bxw315-umd/potentiostat-data-parser\n",
    "[docs]: https://bxw315-umd.github.io/potentiostat-data-parser/\n",
    "[pypi]: https://pypi.org/project/potentiostat-data-parser/\n",
    "[conda]: https://anaconda.org/bxw315-umd/potentiostat-data-parser"
   ]
  },
  {
   "cell_type": "markdown",
   "metadata": {},
   "source": [
    "### Documentation"
   ]
  },
  {
   "cell_type": "markdown",
   "metadata": {},
   "source": [
    "Documentation can be found hosted on this GitHub [repository][repo]'s [pages][docs]. Additionally you can find package manager specific guidelines on [conda][conda] and [pypi][pypi] respectively.\n",
    "\n",
    "[repo]: https://github.com/bxw315-umd/potentiostat-data-parser\n",
    "[docs]: https://bxw315-umd.github.io/potentiostat-data-parser/\n",
    "[pypi]: https://pypi.org/project/potentiostat-data-parser/\n",
    "[conda]: https://anaconda.org/bxw315-umd/potentiostat-data-parser"
   ]
  },
  {
   "cell_type": "markdown",
   "metadata": {},
   "source": [
    "## How to use"
   ]
  },
  {
   "cell_type": "markdown",
   "metadata": {},
   "source": [
    "### CHI Example"
   ]
  },
  {
   "cell_type": "code",
   "execution_count": null,
   "metadata": {},
   "outputs": [],
   "source": [
    "#| hide\n",
    "import os"
   ]
  },
  {
   "cell_type": "code",
   "execution_count": null,
   "metadata": {},
   "outputs": [],
   "source": [
    "#| hide\n",
    "with open(\"../test_files/DPVs/MPRN_tab_time.txt\") as f:\n",
    "    lines = f.read().splitlines()\n",
    "contents = \"\\n\".join(lines[:30])"
   ]
  },
  {
   "cell_type": "code",
   "execution_count": null,
   "metadata": {},
   "outputs": [
    {
     "name": "stdout",
     "output_type": "stream",
     "text": [
      "July 19, 2022   10:35:26\n",
      "Differential Pulse Voltammetry\n",
      "File: dpv_gce_0.1m_pbbuffer_220719.bin\n",
      "Data Source:  Experiment\n",
      "Instrument Model:  CHI1040C\n",
      "Header: \n",
      "Note: \n",
      "\n",
      "Init E (V) = 0.4\n",
      "Final E (V) = 1.4\n",
      "Incr E (V) = 0.004\n",
      "Amplitude (V) = 0.05\n",
      "Pulse Width (sec) = 0.06\n",
      "Sample Width (sec) = 0.03\n",
      "Pulse Period (sec) = 0.5\n",
      "Quiet Time (sec) = 2\n",
      "Sensitivity (A/V) = 1e-5\n",
      "\n",
      "Ep = 0.584V\n",
      "ip = -1.618e-7A\n",
      "Ap = -1.423e-8VA\n",
      "\n",
      "Potential/V\tCurrent/A\tTime/s\n",
      "\n",
      "0.440\t-5.844e-7\n",
      "0.480\t-6.668e-7\n",
      "0.520\t-8.177e-7\n",
      "0.560\t-1.002e-6\n",
      "0.600\t-1.023e-6\n",
      "0.640\t-9.839e-7\n"
     ]
    }
   ],
   "source": [
    "print(contents)"
   ]
  },
  {
   "cell_type": "code",
   "execution_count": null,
   "metadata": {},
   "outputs": [
    {
     "data": {
      "text/plain": [
       "{'memo': {'timestamp': '2022-07-19T10:35:26',\n",
       "  'technique': 'Differential Pulse Voltammetry',\n",
       "  'file': 'dpv_gce_0.1m_pbbuffer_220719.bin',\n",
       "  'instrument_model': 'CHI1040C'},\n",
       " 'parameters': {'Init E (V)': 0.4,\n",
       "  'Final E (V)': 1.4,\n",
       "  'Incr E (V)': 0.004,\n",
       "  'Amplitude (V)': 0.05,\n",
       "  'Pulse Width (sec)': 0.06,\n",
       "  'Sample Width (sec)': 0.03,\n",
       "  'Pulse Period (sec)': 0.5,\n",
       "  'Quiet Time (sec)': 2.0,\n",
       "  'Sensitivity (A/V)': 1e-05},\n",
       " 'numeric_data': {'Potential/V': array([0.44, 0.48, 0.52, 0.56, 0.6 , 0.64]),\n",
       "  'Current/A': array([-5.844e-07, -6.668e-07, -8.177e-07, -1.002e-06, -1.023e-06,\n",
       "         -9.839e-07])}}"
      ]
     },
     "execution_count": null,
     "metadata": {},
     "output_type": "execute_result"
    }
   ],
   "source": [
    "parse_chi_file(contents)"
   ]
  },
  {
   "cell_type": "markdown",
   "metadata": {},
   "source": [
    "### Palmsens example"
   ]
  },
  {
   "cell_type": "code",
   "execution_count": null,
   "metadata": {},
   "outputs": [],
   "source": [
    "#| hide\n",
    "with open(\"../test_files/DPVs_palmsens/multi_column.csv\", encoding=\"utf-16\") as f:\n",
    "    lines = f.read().splitlines()\n",
    "contents = \"\\n\".join(lines[:10])"
   ]
  },
  {
   "cell_type": "code",
   "execution_count": null,
   "metadata": {},
   "outputs": [
    {
     "name": "stdout",
     "output_type": "stream",
     "text": [
      "Date and time:,2025-03-29 23:18:59\n",
      "Notes:\n",
      ",,,,,,,,,,,,\n",
      "Differential Pulse Voltammetry [1]: S49,,Differential Pulse Voltammetry [8]: S48,,Differential Pulse Voltammetry [15]: S47,,Differential Pulse Voltammetry [22]: S46,,Differential Pulse Voltammetry [29]: S45,,Differential Pulse Voltammetry [36]: S44,,Differential Pulse Voltammetry [43]: S43\n",
      "Date and time measurement:,2025-03-29 13:32:13,Date and time measurement:,2025-03-29 14:28:03,Date and time measurement:,2025-03-29 16:28:02,Date and time measurement:,2025-03-29 17:28:20,Date and time measurement:,2025-03-29 19:41:19,Date and time measurement:,2025-03-29 20:35:10,Date and time measurement:,2025-03-29 21:22:52,\n",
      "V,µA,V,µA,V,µA,V,µA,V,µA,V,µA,V,µA\n",
      "0,0.019751112,0,0.040179824,0,0.045964596,0,0.04073982,0,0.044447004,0,0.043287808,0,0.05077498\n",
      "0.01020757,0.019157514,0.01020757,0.039586228,0.01020757,0.0450126,0.01020757,0.039709428,0.01020757,0.042632616,0.01020757,0.041630216,0.01020757,0.050198176\n",
      "0.02041514,0.018810318,0.02041514,0.038824632,0.02041514,0.044525404,0.02041514,0.039082228,0.02041514,0.04155182,0.02041514,0.040493424,0.02041514,0.047666992\n",
      "0.03062271,0.01848552,0.03062271,0.038460632,0.03062271,0.044407804,0.03062271,0.038936632,0.03062271,0.04089662,0.03062271,0.039731828,0.03062271,0.045947796\n"
     ]
    }
   ],
   "source": [
    "print(contents)"
   ]
  },
  {
   "cell_type": "code",
   "execution_count": null,
   "metadata": {},
   "outputs": [
    {
     "data": {
      "text/plain": [
       "[{'name': 'Differential Pulse Voltammetry [1]: S49',\n",
       "  'timestamp': '2025-03-29T13:32:13',\n",
       "  'potential': array([0.        , 0.01020757, 0.02041514]),\n",
       "  'current': array([1.9751112e-08, 1.9157514e-08, 1.8810318e-08])},\n",
       " {'name': 'Differential Pulse Voltammetry [8]: S48',\n",
       "  'timestamp': '2025-03-29T14:28:03',\n",
       "  'potential': array([0.        , 0.01020757, 0.02041514]),\n",
       "  'current': array([4.0179824e-08, 3.9586228e-08, 3.8824632e-08])},\n",
       " {'name': 'Differential Pulse Voltammetry [15]: S47',\n",
       "  'timestamp': '2025-03-29T16:28:02',\n",
       "  'potential': array([0.        , 0.01020757, 0.02041514]),\n",
       "  'current': array([4.5964596e-08, 4.5012600e-08, 4.4525404e-08])},\n",
       " {'name': 'Differential Pulse Voltammetry [22]: S46',\n",
       "  'timestamp': '2025-03-29T17:28:20',\n",
       "  'potential': array([0.        , 0.01020757, 0.02041514]),\n",
       "  'current': array([4.0739820e-08, 3.9709428e-08, 3.9082228e-08])},\n",
       " {'name': 'Differential Pulse Voltammetry [29]: S45',\n",
       "  'timestamp': '2025-03-29T19:41:19',\n",
       "  'potential': array([0.        , 0.01020757, 0.02041514]),\n",
       "  'current': array([4.4447004e-08, 4.2632616e-08, 4.1551820e-08])},\n",
       " {'name': 'Differential Pulse Voltammetry [36]: S44',\n",
       "  'timestamp': '2025-03-29T20:35:10',\n",
       "  'potential': array([0.        , 0.01020757, 0.02041514]),\n",
       "  'current': array([4.3287808e-08, 4.1630216e-08, 4.0493424e-08])},\n",
       " {'name': 'Differential Pulse Voltammetry [43]: S43',\n",
       "  'timestamp': '2025-03-29T21:22:52',\n",
       "  'potential': array([0.        , 0.01020757, 0.02041514]),\n",
       "  'current': array([5.0774980e-08, 5.0198176e-08, 4.7666992e-08])}]"
      ]
     },
     "execution_count": null,
     "metadata": {},
     "output_type": "execute_result"
    }
   ],
   "source": [
    "parse_palmsens_file(contents)"
   ]
  }
 ],
 "metadata": {
  "kernelspec": {
   "display_name": "python3",
   "language": "python",
   "name": "python3"
  }
 },
 "nbformat": 4,
 "nbformat_minor": 4
}
