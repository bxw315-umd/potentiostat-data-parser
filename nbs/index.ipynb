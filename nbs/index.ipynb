{
 "cells": [
  {
   "cell_type": "code",
   "execution_count": null,
   "metadata": {},
   "outputs": [],
   "source": [
    "#| hide\n",
    "from potentiostat_data_parser.chi import *"
   ]
  },
  {
   "cell_type": "markdown",
   "metadata": {},
   "source": [
    "# potentiostat-data-parser\n",
    "\n",
    "> Parse data files created by CH Instruments potentiostats and Palmsens potentiostats"
   ]
  },
  {
   "cell_type": "markdown",
   "metadata": {},
   "source": [
    "## Usage"
   ]
  },
  {
   "cell_type": "markdown",
   "metadata": {},
   "source": [
    "### Installation"
   ]
  },
  {
   "cell_type": "markdown",
   "metadata": {},
   "source": [
    "Install latest from the GitHub [repository][repo]:\n",
    "\n",
    "```sh\n",
    "$ pip install git+https://github.com/bxw315-umd/potentiostat-data-parser.git\n",
    "```\n",
    "\n",
    "or from [conda][conda]\n",
    "\n",
    "```sh\n",
    "$ conda install -c bxw315-umd potentiostat_data_parser\n",
    "```\n",
    "\n",
    "or from [pypi][pypi]\n",
    "\n",
    "\n",
    "```sh\n",
    "$ pip install potentiostat_data_parser\n",
    "```\n",
    "\n",
    "\n",
    "[repo]: https://github.com/bxw315-umd/potentiostat-data-parser\n",
    "[docs]: https://bxw315-umd.github.io/potentiostat-data-parser/\n",
    "[pypi]: https://pypi.org/project/potentiostat-data-parser/\n",
    "[conda]: https://anaconda.org/bxw315-umd/potentiostat-data-parser"
   ]
  },
  {
   "cell_type": "markdown",
   "metadata": {},
   "source": [
    "### Documentation"
   ]
  },
  {
   "cell_type": "markdown",
   "metadata": {},
   "source": [
    "Documentation can be found hosted on this GitHub [repository][repo]'s [pages][docs]. Additionally you can find package manager specific guidelines on [conda][conda] and [pypi][pypi] respectively.\n",
    "\n",
    "[repo]: https://github.com/bxw315-umd/potentiostat-data-parser\n",
    "[docs]: https://bxw315-umd.github.io/potentiostat-data-parser/\n",
    "[pypi]: https://pypi.org/project/potentiostat-data-parser/\n",
    "[conda]: https://anaconda.org/bxw315-umd/potentiostat-data-parser"
   ]
  },
  {
   "cell_type": "markdown",
   "metadata": {},
   "source": [
    "## How to use"
   ]
  },
  {
   "cell_type": "markdown",
   "metadata": {},
   "source": [
    "### CHI Example"
   ]
  },
  {
   "cell_type": "code",
   "execution_count": null,
   "metadata": {},
   "outputs": [],
   "source": [
    "#| hide\n",
    "import os"
   ]
  },
  {
   "cell_type": "code",
   "execution_count": null,
   "metadata": {},
   "outputs": [],
   "source": [
    "#| hide\n",
    "with open(\"../test_files/DPVs/MPRN_tab_time.txt\") as f:\n",
    "    contents = f.read()"
   ]
  },
  {
   "cell_type": "code",
   "execution_count": null,
   "metadata": {},
   "outputs": [
    {
     "name": "stdout",
     "output_type": "stream",
     "text": [
      "July 19, 2022   10:35:26\n",
      "Differential Pulse Voltammetry\n",
      "File: dpv_gce_0.1m_pbbuffer_220719.bin\n",
      "Data Source:  Experiment\n",
      "Instrument Model:  CHI1040C\n",
      "Header: \n",
      "Note: \n",
      "\n",
      "Init E (V) = 0.4\n",
      "Final E (V) = 1.4\n",
      "Incr E (V) = 0.004\n",
      "Amplitude (V) = 0.05\n",
      "Pulse Width (sec) = 0.06\n",
      "Sample Width (sec) = 0.03\n",
      "Pulse Period (sec) = 0.5\n",
      "Quiet Time (sec) = 2\n",
      "Sensitivity (A/V) = 1e-5\n",
      "\n",
      "Ep = 0.584V\n",
      "ip = -1.618e-7A\n",
      "Ap = -1.423e-8VA\n",
      "\n",
      "Potential/V\tCurrent/A\tTime/s\n",
      "\n",
      "0.440\t-5.844e-7\n",
      "0.480\t-6.668e-7\n",
      "0.520\t-8.177e-7\n",
      "0.560\t-1.002e-6\n",
      "0.600\t-1.023e-6\n",
      "0.640\t-9.839e-7\n",
      "0.680\t-1.020e-6\n",
      "0.720\t-1.099e-6\n",
      "0.760\t-1.200e-6\n",
      "0.800\t-1.320e-6\n",
      "0.840\t-1.465e-6\n",
      "0.880\t-1.638e-6\n",
      "0.920\t-1.833e-6\n",
      "0.960\t-2.054e-6\n",
      "1.000\t-2.309e-6\n",
      "1.040\t-2.601e-6\n",
      "1.080\t-2.919e-6\n",
      "1.120\t-3.252e-6\n",
      "1.160\t-3.608e-6\n",
      "1.200\t-4.000e-6\n",
      "1.240\t-4.455e-6\n",
      "1.280\t-5.040e-6\n",
      "1.320\t-5.845e-6\n",
      "1.360\t-6.902e-6\n",
      "1.400\t-8.161e-6\n",
      "\n"
     ]
    }
   ],
   "source": [
    "print(contents)"
   ]
  },
  {
   "cell_type": "code",
   "execution_count": null,
   "metadata": {},
   "outputs": [
    {
     "data": {
      "text/plain": [
       "{'memo': {'timestamp': '2022-07-19T10:35:26',\n",
       "  'technique': 'Differential Pulse Voltammetry',\n",
       "  'file': 'dpv_gce_0.1m_pbbuffer_220719.bin',\n",
       "  'instrument_model': 'CHI1040C'},\n",
       " 'parameters': {'Init E (V)': 0.4,\n",
       "  'Final E (V)': 1.4,\n",
       "  'Incr E (V)': 0.004,\n",
       "  'Amplitude (V)': 0.05,\n",
       "  'Pulse Width (sec)': 0.06,\n",
       "  'Sample Width (sec)': 0.03,\n",
       "  'Pulse Period (sec)': 0.5,\n",
       "  'Quiet Time (sec)': 2.0,\n",
       "  'Sensitivity (A/V)': 1e-05},\n",
       " 'numeric_data': {'Potential/V': array([0.44, 0.48, 0.52, 0.56, 0.6 , 0.64, 0.68, 0.72, 0.76, 0.8 , 0.84,\n",
       "         0.88, 0.92, 0.96, 1.  , 1.04, 1.08, 1.12, 1.16, 1.2 , 1.24, 1.28,\n",
       "         1.32, 1.36, 1.4 ]),\n",
       "  'Current/A': array([-5.844e-07, -6.668e-07, -8.177e-07, -1.002e-06, -1.023e-06,\n",
       "         -9.839e-07, -1.020e-06, -1.099e-06, -1.200e-06, -1.320e-06,\n",
       "         -1.465e-06, -1.638e-06, -1.833e-06, -2.054e-06, -2.309e-06,\n",
       "         -2.601e-06, -2.919e-06, -3.252e-06, -3.608e-06, -4.000e-06,\n",
       "         -4.455e-06, -5.040e-06, -5.845e-06, -6.902e-06, -8.161e-06])}}"
      ]
     },
     "execution_count": null,
     "metadata": {},
     "output_type": "execute_result"
    }
   ],
   "source": [
    "parse_chi_file(contents)"
   ]
  },
  {
   "cell_type": "code",
   "execution_count": null,
   "metadata": {},
   "outputs": [],
   "source": []
  }
 ],
 "metadata": {
  "kernelspec": {
   "display_name": "python3",
   "language": "python",
   "name": "python3"
  }
 },
 "nbformat": 4,
 "nbformat_minor": 4
}
